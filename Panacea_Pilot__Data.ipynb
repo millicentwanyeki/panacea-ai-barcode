{
  "nbformat": 4,
  "nbformat_minor": 0,
  "metadata": {
    "colab": {
      "provenance": [],
      "authorship_tag": "ABX9TyN/tLkiK97RkZ5n0Fn2N4im",
      "include_colab_link": true
    },
    "kernelspec": {
      "name": "python3",
      "display_name": "Python 3"
    },
    "language_info": {
      "name": "python"
    }
  },
  "cells": [
    {
      "cell_type": "markdown",
      "metadata": {
        "id": "view-in-github",
        "colab_type": "text"
      },
      "source": [
        "<a href=\"https://colab.research.google.com/github/millicentwanyeki/panacea-ai-barcode/blob/main/Panacea_Pilot__Data.ipynb\" target=\"_parent\"><img src=\"https://colab.research.google.com/assets/colab-badge.svg\" alt=\"Open In Colab\"/></a>"
      ]
    },
    {
      "cell_type": "code",
      "execution_count": 2,
      "metadata": {
        "colab": {
          "base_uri": "https://localhost:8080/"
        },
        "id": "dgw1fMsHqSOS",
        "outputId": "2b298f00-474a-4fca-9433-4f853f8fa012"
      },
      "outputs": [
        {
          "output_type": "stream",
          "name": "stdout",
          "text": [
            "[[178   0]\n",
            " [  0  22]]\n",
            "              precision    recall  f1-score   support\n",
            "\n",
            "           0       1.00      1.00      1.00       178\n",
            "           1       1.00      1.00      1.00        22\n",
            "\n",
            "    accuracy                           1.00       200\n",
            "   macro avg       1.00      1.00      1.00       200\n",
            "weighted avg       1.00      1.00      1.00       200\n",
            "\n"
          ]
        }
      ],
      "source": [
        "from sklearn.ensemble import RandomForestClassifier\n",
        "from sklearn.model_selection import train_test_split\n",
        "from sklearn.metrics import classification_report, confusion_matrix\n",
        "from sklearn.preprocessing import LabelEncoder\n",
        "import pandas as pd\n",
        "\n",
        "# Load data\n",
        "df = pd.read_csv(\"Panacea_Pilot_Data_Nairobi_6Weeks.csv\")\n",
        "\n",
        "# Encode categorical features\n",
        "for col in ['Nurse_ID', 'Medication_Name', 'Corrective_Action_Taken']:\n",
        "    df[col] = LabelEncoder().fit_transform(df[col].astype(str))\n",
        "\n",
        "# Convert target variable\n",
        "df['Scan_Status'] = df['Scan_Status'].map({'Successful': 0, 'Mismatch': 1})\n",
        "\n",
        "# Features and label\n",
        "X = df[['Nurse_ID', 'Medication_Name', 'Corrective_Action_Taken']]\n",
        "y = df['Scan_Status']\n",
        "\n",
        "# Split\n",
        "X_train, X_test, y_train, y_test = train_test_split(X, y, test_size=0.2, random_state=42)\n",
        "\n",
        "# Train model\n",
        "model = RandomForestClassifier(n_estimators=100, random_state=42)\n",
        "model.fit(X_train, y_train)\n",
        "\n",
        "# Evaluate\n",
        "y_pred = model.predict(X_test)\n",
        "print(confusion_matrix(y_test, y_pred))\n",
        "print(classification_report(y_test, y_pred))\n"
      ]
    }
  ]
}